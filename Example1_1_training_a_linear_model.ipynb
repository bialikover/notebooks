{
  "nbformat": 4,
  "nbformat_minor": 0,
  "metadata": {
    "colab": {
      "name": "Example1-1_training a linear model.ipynb",
      "version": "0.3.2",
      "provenance": []
    },
    "kernelspec": {
      "name": "python3",
      "display_name": "Python 3"
    }
  },
  "cells": [
    {
      "cell_type": "code",
      "metadata": {
        "id": "hN4dXnw7-gkV",
        "colab_type": "code",
        "outputId": "e0d1eac2-bc9a-47b3-a60a-32c9997f68a2",
        "colab": {
          "base_uri": "https://localhost:8080/",
          "height": 323
        }
      },
      "source": [
        "!pip install matplotlib numpy pandas scikit-learn requests"
      ],
      "execution_count": 47,
      "outputs": [
        {
          "output_type": "stream",
          "text": [
            "Requirement already satisfied: matplotlib in /usr/local/lib/python3.6/dist-packages (3.0.3)\n",
            "Requirement already satisfied: numpy in /usr/local/lib/python3.6/dist-packages (1.16.4)\n",
            "Requirement already satisfied: pandas in /usr/local/lib/python3.6/dist-packages (0.24.2)\n",
            "Requirement already satisfied: scikit-learn in /usr/local/lib/python3.6/dist-packages (0.21.2)\n",
            "Requirement already satisfied: requests in /usr/local/lib/python3.6/dist-packages (2.21.0)\n",
            "Requirement already satisfied: python-dateutil>=2.1 in /usr/local/lib/python3.6/dist-packages (from matplotlib) (2.5.3)\n",
            "Requirement already satisfied: kiwisolver>=1.0.1 in /usr/local/lib/python3.6/dist-packages (from matplotlib) (1.1.0)\n",
            "Requirement already satisfied: pyparsing!=2.0.4,!=2.1.2,!=2.1.6,>=2.0.1 in /usr/local/lib/python3.6/dist-packages (from matplotlib) (2.4.0)\n",
            "Requirement already satisfied: cycler>=0.10 in /usr/local/lib/python3.6/dist-packages (from matplotlib) (0.10.0)\n",
            "Requirement already satisfied: pytz>=2011k in /usr/local/lib/python3.6/dist-packages (from pandas) (2018.9)\n",
            "Requirement already satisfied: scipy>=0.17.0 in /usr/local/lib/python3.6/dist-packages (from scikit-learn) (1.3.0)\n",
            "Requirement already satisfied: joblib>=0.11 in /usr/local/lib/python3.6/dist-packages (from scikit-learn) (0.13.2)\n",
            "Requirement already satisfied: chardet<3.1.0,>=3.0.2 in /usr/local/lib/python3.6/dist-packages (from requests) (3.0.4)\n",
            "Requirement already satisfied: urllib3<1.25,>=1.21.1 in /usr/local/lib/python3.6/dist-packages (from requests) (1.24.3)\n",
            "Requirement already satisfied: certifi>=2017.4.17 in /usr/local/lib/python3.6/dist-packages (from requests) (2019.6.16)\n",
            "Requirement already satisfied: idna<2.9,>=2.5 in /usr/local/lib/python3.6/dist-packages (from requests) (2.8)\n",
            "Requirement already satisfied: six>=1.5 in /usr/local/lib/python3.6/dist-packages (from python-dateutil>=2.1->matplotlib) (1.12.0)\n",
            "Requirement already satisfied: setuptools in /usr/local/lib/python3.6/dist-packages (from kiwisolver>=1.0.1->matplotlib) (41.0.1)\n"
          ],
          "name": "stdout"
        }
      ]
    },
    {
      "cell_type": "code",
      "metadata": {
        "id": "-DeUxxprAfLR",
        "colab_type": "code",
        "outputId": "9b05bfd2-17a2-4870-b935-dbfa8d256106",
        "colab": {
          "base_uri": "https://localhost:8080/",
          "height": 34
        }
      },
      "source": [
        "!pwd"
      ],
      "execution_count": 48,
      "outputs": [
        {
          "output_type": "stream",
          "text": [
            "/content\n"
          ],
          "name": "stdout"
        }
      ]
    },
    {
      "cell_type": "code",
      "metadata": {
        "id": "JHuKO5SBcY8c",
        "colab_type": "code",
        "colab": {}
      },
      "source": [
        "import matplotlib\n",
        "import matplotlib.pyplot as plt\n",
        "import numpy as np\n",
        "import pandas as pd\n",
        "import sklearn.linear_model\n",
        "import requests"
      ],
      "execution_count": 0,
      "outputs": []
    },
    {
      "cell_type": "code",
      "metadata": {
        "id": "8USDzO8DAqO3",
        "colab_type": "code",
        "outputId": "2ecb8aa9-c47e-4c99-d284-335a06ee1ac9",
        "colab": {
          "base_uri": "https://localhost:8080/",
          "height": 34
        }
      },
      "source": [
        "# load dataset gdp_per_capita and save them in /content\n",
        "\n",
        "gdp_per_capita_url = 'https://raw.githubusercontent.com/ageron/handson-ml/master/datasets/lifesat/gdp_per_capita.csv'\n",
        "gdp_per_capita_url_r = requests.get(gdp_per_capita_url, allow_redirects=True)\n",
        "open('gdp_per_capita.csv', 'wb').write(gdp_per_capita_url_r.content)\n",
        "\n"
      ],
      "execution_count": 50,
      "outputs": [
        {
          "output_type": "execute_result",
          "data": {
            "text/plain": [
              "36323"
            ]
          },
          "metadata": {
            "tags": []
          },
          "execution_count": 50
        }
      ]
    },
    {
      "cell_type": "code",
      "metadata": {
        "id": "oZilFbYmC_VQ",
        "colab_type": "code",
        "outputId": "75bae04d-9a5b-4277-f4fd-f53e6cf4cf39",
        "colab": {
          "base_uri": "https://localhost:8080/",
          "height": 34
        }
      },
      "source": [
        "# load dataset oecd_bli_2015 and save them in /content\n",
        "\n",
        "oecd_bli_2015_url = 'https://raw.githubusercontent.com/ageron/handson-ml/master/datasets/lifesat/oecd_bli_2015.csv'\n",
        "oecd_bli_2015_url_r = requests.get(oecd_bli_2015_url, allow_redirects=True)\n",
        "open('oecd_bli_2015.csv', 'wb').write(oecd_bli_2015_url_r.content)\n",
        "\n"
      ],
      "execution_count": 51,
      "outputs": [
        {
          "output_type": "execute_result",
          "data": {
            "text/plain": [
              "405467"
            ]
          },
          "metadata": {
            "tags": []
          },
          "execution_count": 51
        }
      ]
    },
    {
      "cell_type": "code",
      "metadata": {
        "id": "HHTj__GBdeIg",
        "colab_type": "code",
        "colab": {}
      },
      "source": [
        "oecd_bli = pd.read_csv(\"oecd_bli_2015.csv\", thousands=',')\n",
        "gdp_per_capita = pd.read_csv(\"gdp_per_capita.csv\", thousands=',', delimiter='\\t',\n",
        "                             encoding='latin1', na_values=\"n/a\")"
      ],
      "execution_count": 0,
      "outputs": []
    },
    {
      "cell_type": "code",
      "metadata": {
        "id": "_woGIVYLG9_7",
        "colab_type": "code",
        "colab": {
          "base_uri": "https://localhost:8080/",
          "height": 1000
        },
        "outputId": "017cb5b7-d42b-4901-9272-19605d5f2926"
      },
      "source": [
        "gdp_per_capita, oecd_bli"
      ],
      "execution_count": 53,
      "outputs": [
        {
          "output_type": "execute_result",
          "data": {
            "text/plain": [
              "(                                               Country  ... Estimates Start After\n",
              " 0                                          Afghanistan  ...                2013.0\n",
              " 1                                              Albania  ...                2010.0\n",
              " 2                                              Algeria  ...                2014.0\n",
              " 3                                               Angola  ...                2014.0\n",
              " 4                                  Antigua and Barbuda  ...                2011.0\n",
              " 5                                            Argentina  ...                2013.0\n",
              " 6                                              Armenia  ...                2014.0\n",
              " 7                                            Australia  ...                2014.0\n",
              " 8                                              Austria  ...                2015.0\n",
              " 9                                           Azerbaijan  ...                2014.0\n",
              " 10                                         The Bahamas  ...                2013.0\n",
              " 11                                             Bahrain  ...                2014.0\n",
              " 12                                          Bangladesh  ...                2013.0\n",
              " 13                                            Barbados  ...                2010.0\n",
              " 14                                             Belarus  ...                2013.0\n",
              " 15                                             Belgium  ...                2014.0\n",
              " 16                                              Belize  ...                2013.0\n",
              " 17                                               Benin  ...                2011.0\n",
              " 18                                              Bhutan  ...                2011.0\n",
              " 19                                             Bolivia  ...                2012.0\n",
              " 20                              Bosnia and Herzegovina  ...                2014.0\n",
              " 21                                            Botswana  ...                2008.0\n",
              " 22                                              Brazil  ...                2014.0\n",
              " 23                                   Brunei Darussalam  ...                2013.0\n",
              " 24                                            Bulgaria  ...                2014.0\n",
              " 25                                        Burkina Faso  ...                2012.0\n",
              " 26                                             Burundi  ...                   0.0\n",
              " 27                                          Cabo Verde  ...                2014.0\n",
              " 28                                            Cambodia  ...                2012.0\n",
              " 29                                            Cameroon  ...                2010.0\n",
              " ..                                                 ...  ...                   ...\n",
              " 160                                          Swaziland  ...                2014.0\n",
              " 161                                             Sweden  ...                2014.0\n",
              " 162                                        Switzerland  ...                2015.0\n",
              " 163                                              Syria  ...                2010.0\n",
              " 164                           Taiwan Province of China  ...                2015.0\n",
              " 165                                         Tajikistan  ...                2014.0\n",
              " 166                                           Tanzania  ...                2012.0\n",
              " 167                                           Thailand  ...                2014.0\n",
              " 168                                        Timor-Leste  ...                2011.0\n",
              " 169                                               Togo  ...                2010.0\n",
              " 170                                              Tonga  ...                2012.0\n",
              " 171                                Trinidad and Tobago  ...                2012.0\n",
              " 172                                            Tunisia  ...                2010.0\n",
              " 173                                             Turkey  ...                2013.0\n",
              " 174                                       Turkmenistan  ...                2004.0\n",
              " 175                                             Tuvalu  ...                2012.0\n",
              " 176                                             Uganda  ...                2014.0\n",
              " 177                                            Ukraine  ...                2015.0\n",
              " 178                               United Arab Emirates  ...                2010.0\n",
              " 179                                     United Kingdom  ...                2015.0\n",
              " 180                                      United States  ...                2015.0\n",
              " 181                                            Uruguay  ...                2014.0\n",
              " 182                                         Uzbekistan  ...                2013.0\n",
              " 183                                            Vanuatu  ...                2014.0\n",
              " 184                                          Venezuela  ...                2010.0\n",
              " 185                                            Vietnam  ...                2012.0\n",
              " 186                                              Yemen  ...                2008.0\n",
              " 187                                             Zambia  ...                2010.0\n",
              " 188                                           Zimbabwe  ...                2012.0\n",
              " 189  International Monetary Fund, World Economic Ou...  ...                   NaN\n",
              " \n",
              " [190 rows x 7 columns],\n",
              "      LOCATION          Country INDICATOR  ...  Value Flag Codes            Flags\n",
              " 0         AUS        Australia   HO_BASE  ...   1.10          E  Estimated value\n",
              " 1         AUT          Austria   HO_BASE  ...   1.00        NaN              NaN\n",
              " 2         BEL          Belgium   HO_BASE  ...   2.00        NaN              NaN\n",
              " 3         CAN           Canada   HO_BASE  ...   0.20        NaN              NaN\n",
              " 4         CZE   Czech Republic   HO_BASE  ...   0.90        NaN              NaN\n",
              " 5         DNK          Denmark   HO_BASE  ...   0.90        NaN              NaN\n",
              " 6         FIN          Finland   HO_BASE  ...   0.60        NaN              NaN\n",
              " 7         FRA           France   HO_BASE  ...   0.50        NaN              NaN\n",
              " 8         DEU          Germany   HO_BASE  ...   0.10        NaN              NaN\n",
              " 9         GRC           Greece   HO_BASE  ...   0.70        NaN              NaN\n",
              " 10        HUN          Hungary   HO_BASE  ...   4.80        NaN              NaN\n",
              " 11        ISL          Iceland   HO_BASE  ...   0.40        NaN              NaN\n",
              " 12        IRL          Ireland   HO_BASE  ...   0.20        NaN              NaN\n",
              " 13        ITA            Italy   HO_BASE  ...   1.10        NaN              NaN\n",
              " 14        JPN            Japan   HO_BASE  ...   6.40        NaN              NaN\n",
              " 15        KOR            Korea   HO_BASE  ...   4.20        NaN              NaN\n",
              " 16        LUX       Luxembourg   HO_BASE  ...   0.10        NaN              NaN\n",
              " 17        MEX           Mexico   HO_BASE  ...   4.20        NaN              NaN\n",
              " 18        NLD      Netherlands   HO_BASE  ...   0.00        NaN              NaN\n",
              " 19        NZL      New Zealand   HO_BASE  ...   0.20          E  Estimated value\n",
              " 20        NOR           Norway   HO_BASE  ...   0.30        NaN              NaN\n",
              " 21        POL           Poland   HO_BASE  ...   3.20        NaN              NaN\n",
              " 22        PRT         Portugal   HO_BASE  ...   0.90        NaN              NaN\n",
              " 23        SVK  Slovak Republic   HO_BASE  ...   0.60        NaN              NaN\n",
              " 24        ESP            Spain   HO_BASE  ...   0.10        NaN              NaN\n",
              " 25        SWE           Sweden   HO_BASE  ...   0.00        NaN              NaN\n",
              " 26        CHE      Switzerland   HO_BASE  ...   0.00        NaN              NaN\n",
              " 27        TUR           Turkey   HO_BASE  ...  12.70        NaN              NaN\n",
              " 28        GBR   United Kingdom   HO_BASE  ...   0.20        NaN              NaN\n",
              " 29        USA    United States   HO_BASE  ...   0.10        NaN              NaN\n",
              " ...       ...              ...       ...  ...    ...        ...              ...\n",
              " 3262      FRA           France   WL_TNOW  ...  14.90        NaN              NaN\n",
              " 3263      DEU          Germany   WL_TNOW  ...  15.31        NaN              NaN\n",
              " 3264      GRC           Greece   WL_TNOW  ...  14.69          E  Estimated value\n",
              " 3265      HUN          Hungary   WL_TNOW  ...  14.82          E  Estimated value\n",
              " 3266      ISL          Iceland   WL_TNOW  ...  14.37          E  Estimated value\n",
              " 3267      IRL          Ireland   WL_TNOW  ...  14.97          E  Estimated value\n",
              " 3268      ITA            Italy   WL_TNOW  ...  14.32        NaN              NaN\n",
              " 3269      JPN            Japan   WL_TNOW  ...  14.88        NaN              NaN\n",
              " 3270      KOR            Korea   WL_TNOW  ...  14.07        NaN              NaN\n",
              " 3271      LUX       Luxembourg   WL_TNOW  ...  14.90          E  Estimated value\n",
              " 3272      MEX           Mexico   WL_TNOW  ...  13.63          E  Estimated value\n",
              " 3273      NLD      Netherlands   WL_TNOW  ...  15.23          E  Estimated value\n",
              " 3274      NZL      New Zealand   WL_TNOW  ...  14.93        NaN              NaN\n",
              " 3275      NOR           Norway   WL_TNOW  ...  15.67        NaN              NaN\n",
              " 3276      POL           Poland   WL_TNOW  ...  13.83        NaN              NaN\n",
              " 3277      PRT         Portugal   WL_TNOW  ...  14.72          E  Estimated value\n",
              " 3278      SVK  Slovak Republic   WL_TNOW  ...  14.76          E  Estimated value\n",
              " 3279      ESP            Spain   WL_TNOW  ...  15.52        NaN              NaN\n",
              " 3280      SWE           Sweden   WL_TNOW  ...  15.30        NaN              NaN\n",
              " 3281      CHE      Switzerland   WL_TNOW  ...  14.76          E  Estimated value\n",
              " 3282      TUR           Turkey   WL_TNOW  ...  13.13          E  Estimated value\n",
              " 3283      GBR   United Kingdom   WL_TNOW  ...  14.60        NaN              NaN\n",
              " 3284      USA    United States   WL_TNOW  ...  14.12        NaN              NaN\n",
              " 3285      BRA           Brazil   WL_TNOW  ...  14.75          E  Estimated value\n",
              " 3286      CHL            Chile   WL_TNOW  ...  14.16          E  Estimated value\n",
              " 3287      EST          Estonia   WL_TNOW  ...  14.43        NaN              NaN\n",
              " 3288      ISR           Israel   WL_TNOW  ...  14.24          E  Estimated value\n",
              " 3289      RUS           Russia   WL_TNOW  ...  14.75          E  Estimated value\n",
              " 3290      SVN         Slovenia   WL_TNOW  ...  14.12        NaN              NaN\n",
              " 3291     OECD     OECD - Total   WL_TNOW  ...  14.74        NaN              NaN\n",
              " \n",
              " [3292 rows x 17 columns])"
            ]
          },
          "metadata": {
            "tags": []
          },
          "execution_count": 53
        }
      ]
    },
    {
      "cell_type": "code",
      "metadata": {
        "id": "-Jr0H9KrKACt",
        "colab_type": "code",
        "colab": {}
      },
      "source": [
        "def prepare_country_stats(oecd_bli, gdp_per_capita):\n",
        "    oecd_bli = oecd_bli[oecd_bli[\"INEQUALITY\"]==\"TOT\"]\n",
        "    oecd_bli = oecd_bli.pivot(index=\"Country\", columns=\"Indicator\", values=\"Value\")\n",
        "    gdp_per_capita.rename(columns={\"2015\": \"GDP per capita\"}, inplace=True)\n",
        "    gdp_per_capita.set_index(\"Country\", inplace=True)\n",
        "    full_country_stats = pd.merge(left=oecd_bli, right=gdp_per_capita,\n",
        "                                  left_index=True, right_index=True)\n",
        "    full_country_stats.sort_values(by=\"GDP per capita\", inplace=True)\n",
        "    remove_indices = [0, 1, 6, 8, 33, 34, 35]\n",
        "    keep_indices = list(set(range(36)) - set(remove_indices))\n",
        "    return full_country_stats[[\"GDP per capita\", 'Life satisfaction']].iloc[keep_indices]"
      ],
      "execution_count": 0,
      "outputs": []
    },
    {
      "cell_type": "code",
      "metadata": {
        "id": "Wfhyr6BWdZSX",
        "colab_type": "code",
        "colab": {}
      },
      "source": [
        "# Prepare the data\n",
        "country_stats = prepare_country_stats(oecd_bli, gdp_per_capita)\n",
        "X = np.c_[country_stats[\"GDP per capita\"]]\n",
        "y = np.c_[country_stats[\"Life satisfaction\"]]\n"
      ],
      "execution_count": 0,
      "outputs": []
    },
    {
      "cell_type": "code",
      "metadata": {
        "id": "UvNL1ltwL-vs",
        "colab_type": "code",
        "outputId": "ba65a04e-fb84-4abb-ebf4-6a7118e5185f",
        "colab": {
          "base_uri": "https://localhost:8080/",
          "height": 283
        }
      },
      "source": [
        "# Visualize the data\n",
        "country_stats.plot(kind='scatter', x=\"GDP per capita\", y='Life satisfaction')\n",
        "plt.show()"
      ],
      "execution_count": 56,
      "outputs": [
        {
          "output_type": "display_data",
          "data": {
            "image/png": "[encoded data removed]",
            "text/plain": [
              "<Figure size 432x288 with 1 Axes>"
            ]
          },
          "metadata": {
            "tags": []
          }
        }
      ]
    },
    {
      "cell_type": "code",
      "metadata": {
        "id": "3uZKnRkDMEt0",
        "colab_type": "code",
        "colab": {}
      },
      "source": [
        "# Select a linear model\n",
        "model = sklearn.linear_model.LinearRegression()"
      ],
      "execution_count": 0,
      "outputs": []
    },
    {
      "cell_type": "code",
      "metadata": {
        "id": "PH4MTjXMMGYk",
        "colab_type": "code",
        "outputId": "e9c6c448-6afe-4836-8c9d-50009fe095c0",
        "colab": {
          "base_uri": "https://localhost:8080/",
          "height": 34
        }
      },
      "source": [
        "model.fit(X, y)"
      ],
      "execution_count": 58,
      "outputs": [
        {
          "output_type": "execute_result",
          "data": {
            "text/plain": [
              "LinearRegression(copy_X=True, fit_intercept=True, n_jobs=None, normalize=False)"
            ]
          },
          "metadata": {
            "tags": []
          },
          "execution_count": 58
        }
      ]
    },
    {
      "cell_type": "code",
      "metadata": {
        "id": "QGsL3wPRMMxU",
        "colab_type": "code",
        "outputId": "b430f6c2-7f53-49b2-beaf-1b4b8ea0070c",
        "colab": {
          "base_uri": "https://localhost:8080/",
          "height": 34
        }
      },
      "source": [
        "# Make a prediction for Mexico\n",
        "X_new = [[8902.83]]  # Mexico' GDP per capita --> https://www.google.com/search?rlz=1C5CHFA_enUS769US769&q=mexico+gdp+per+capita&stick=H4sIAAAAAAAAAOPgUeLUz9U3SLI0iC_SMstOttLPyU9OLMnMz9MvLgHSxSWZyYk58UWp6UAhq_SUgvi8_NzMPKBQQWpRfHJiQWZJ4iJW0dzUiszkfAWgvAJQXAEiDgA6JgCnXQAAAA&sa=X&ved=2ahUKEwjZ8f-8x73jAhWqwlQKHXWCD5QQtx8wHHoECBEQEg&biw=1440&bih=756\n",
        "print(model.predict(X_new)) "
      ],
      "execution_count": 59,
      "outputs": [
        {
          "output_type": "stream",
          "text": [
            "[[5.29031927]]\n"
          ],
          "name": "stdout"
        }
      ]
    }
  ]
}